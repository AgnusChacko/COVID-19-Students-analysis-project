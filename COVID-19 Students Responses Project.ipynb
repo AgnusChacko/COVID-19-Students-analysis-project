{
 "cells": [
  {
   "cell_type": "code",
   "execution_count": 1,
   "id": "240b939c",
   "metadata": {},
   "outputs": [
    {
     "data": {
      "text/html": [
       "<div>\n",
       "<style scoped>\n",
       "    .dataframe tbody tr th:only-of-type {\n",
       "        vertical-align: middle;\n",
       "    }\n",
       "\n",
       "    .dataframe tbody tr th {\n",
       "        vertical-align: top;\n",
       "    }\n",
       "\n",
       "    .dataframe thead th {\n",
       "        text-align: right;\n",
       "    }\n",
       "</style>\n",
       "<table border=\"1\" class=\"dataframe\">\n",
       "  <thead>\n",
       "    <tr style=\"text-align: right;\">\n",
       "      <th></th>\n",
       "      <th>ID</th>\n",
       "      <th>Region of residence</th>\n",
       "      <th>Age of Subject</th>\n",
       "      <th>Time spent on Online Class</th>\n",
       "      <th>Rating of Online Class experience</th>\n",
       "      <th>Medium for online class</th>\n",
       "      <th>Time spent on self study</th>\n",
       "      <th>Time spent on fitness</th>\n",
       "      <th>Time spent on sleep</th>\n",
       "      <th>Time spent on social media</th>\n",
       "      <th>Prefered social media platform</th>\n",
       "      <th>Time spent on TV</th>\n",
       "      <th>Number of meals per day</th>\n",
       "      <th>Change in your weight</th>\n",
       "      <th>Health issue during lockdown</th>\n",
       "      <th>Stress busters</th>\n",
       "      <th>Time utilized</th>\n",
       "      <th>Do you find yourself more connected with your family, close friends , relatives  ?</th>\n",
       "      <th>What you miss the most</th>\n",
       "    </tr>\n",
       "  </thead>\n",
       "  <tbody>\n",
       "    <tr>\n",
       "      <th>0</th>\n",
       "      <td>R1</td>\n",
       "      <td>Delhi-NCR</td>\n",
       "      <td>21</td>\n",
       "      <td>2.0</td>\n",
       "      <td>Good</td>\n",
       "      <td>Laptop/Desktop</td>\n",
       "      <td>4.0</td>\n",
       "      <td>0.0</td>\n",
       "      <td>7.0</td>\n",
       "      <td>3.0</td>\n",
       "      <td>Linkedin</td>\n",
       "      <td>1</td>\n",
       "      <td>4</td>\n",
       "      <td>Increased</td>\n",
       "      <td>NO</td>\n",
       "      <td>Cooking</td>\n",
       "      <td>YES</td>\n",
       "      <td>YES</td>\n",
       "      <td>School/college</td>\n",
       "    </tr>\n",
       "    <tr>\n",
       "      <th>1</th>\n",
       "      <td>R2</td>\n",
       "      <td>Delhi-NCR</td>\n",
       "      <td>21</td>\n",
       "      <td>0.0</td>\n",
       "      <td>Excellent</td>\n",
       "      <td>Smartphone</td>\n",
       "      <td>0.0</td>\n",
       "      <td>2.0</td>\n",
       "      <td>10.0</td>\n",
       "      <td>3.0</td>\n",
       "      <td>Youtube</td>\n",
       "      <td>0</td>\n",
       "      <td>3</td>\n",
       "      <td>Decreased</td>\n",
       "      <td>NO</td>\n",
       "      <td>Scrolling through social media</td>\n",
       "      <td>YES</td>\n",
       "      <td>NO</td>\n",
       "      <td>Roaming around freely</td>\n",
       "    </tr>\n",
       "    <tr>\n",
       "      <th>2</th>\n",
       "      <td>R3</td>\n",
       "      <td>Delhi-NCR</td>\n",
       "      <td>20</td>\n",
       "      <td>7.0</td>\n",
       "      <td>Very poor</td>\n",
       "      <td>Laptop/Desktop</td>\n",
       "      <td>3.0</td>\n",
       "      <td>0.0</td>\n",
       "      <td>6.0</td>\n",
       "      <td>2.0</td>\n",
       "      <td>Linkedin</td>\n",
       "      <td>0</td>\n",
       "      <td>3</td>\n",
       "      <td>Remain Constant</td>\n",
       "      <td>NO</td>\n",
       "      <td>Listening to music</td>\n",
       "      <td>NO</td>\n",
       "      <td>YES</td>\n",
       "      <td>Travelling</td>\n",
       "    </tr>\n",
       "    <tr>\n",
       "      <th>3</th>\n",
       "      <td>R4</td>\n",
       "      <td>Delhi-NCR</td>\n",
       "      <td>20</td>\n",
       "      <td>3.0</td>\n",
       "      <td>Very poor</td>\n",
       "      <td>Smartphone</td>\n",
       "      <td>2.0</td>\n",
       "      <td>1.0</td>\n",
       "      <td>6.0</td>\n",
       "      <td>5.0</td>\n",
       "      <td>Instagram</td>\n",
       "      <td>0</td>\n",
       "      <td>3</td>\n",
       "      <td>Decreased</td>\n",
       "      <td>NO</td>\n",
       "      <td>Watching web series</td>\n",
       "      <td>NO</td>\n",
       "      <td>NO</td>\n",
       "      <td>Friends , relatives</td>\n",
       "    </tr>\n",
       "    <tr>\n",
       "      <th>4</th>\n",
       "      <td>R5</td>\n",
       "      <td>Delhi-NCR</td>\n",
       "      <td>21</td>\n",
       "      <td>3.0</td>\n",
       "      <td>Good</td>\n",
       "      <td>Laptop/Desktop</td>\n",
       "      <td>3.0</td>\n",
       "      <td>1.0</td>\n",
       "      <td>8.0</td>\n",
       "      <td>3.0</td>\n",
       "      <td>Instagram</td>\n",
       "      <td>1</td>\n",
       "      <td>4</td>\n",
       "      <td>Remain Constant</td>\n",
       "      <td>NO</td>\n",
       "      <td>Social Media</td>\n",
       "      <td>NO</td>\n",
       "      <td>NO</td>\n",
       "      <td>Travelling</td>\n",
       "    </tr>\n",
       "    <tr>\n",
       "      <th>...</th>\n",
       "      <td>...</td>\n",
       "      <td>...</td>\n",
       "      <td>...</td>\n",
       "      <td>...</td>\n",
       "      <td>...</td>\n",
       "      <td>...</td>\n",
       "      <td>...</td>\n",
       "      <td>...</td>\n",
       "      <td>...</td>\n",
       "      <td>...</td>\n",
       "      <td>...</td>\n",
       "      <td>...</td>\n",
       "      <td>...</td>\n",
       "      <td>...</td>\n",
       "      <td>...</td>\n",
       "      <td>...</td>\n",
       "      <td>...</td>\n",
       "      <td>...</td>\n",
       "      <td>...</td>\n",
       "    </tr>\n",
       "    <tr>\n",
       "      <th>1177</th>\n",
       "      <td>R1191</td>\n",
       "      <td>Delhi-NCR</td>\n",
       "      <td>12</td>\n",
       "      <td>3.0</td>\n",
       "      <td>Good</td>\n",
       "      <td>Smartphone</td>\n",
       "      <td>4.0</td>\n",
       "      <td>1.0</td>\n",
       "      <td>8.0</td>\n",
       "      <td>1.0</td>\n",
       "      <td>Instagram</td>\n",
       "      <td>2</td>\n",
       "      <td>3</td>\n",
       "      <td>Decreased</td>\n",
       "      <td>NO</td>\n",
       "      <td>Dancing</td>\n",
       "      <td>YES</td>\n",
       "      <td>YES</td>\n",
       "      <td>Travelling</td>\n",
       "    </tr>\n",
       "    <tr>\n",
       "      <th>1178</th>\n",
       "      <td>R1192</td>\n",
       "      <td>Delhi-NCR</td>\n",
       "      <td>14</td>\n",
       "      <td>6.0</td>\n",
       "      <td>Average</td>\n",
       "      <td>Smartphone</td>\n",
       "      <td>4.0</td>\n",
       "      <td>1.0</td>\n",
       "      <td>9.0</td>\n",
       "      <td>1.0</td>\n",
       "      <td>Whatsapp</td>\n",
       "      <td>1</td>\n",
       "      <td>4</td>\n",
       "      <td>Remain Constant</td>\n",
       "      <td>NO</td>\n",
       "      <td>Listening to music</td>\n",
       "      <td>YES</td>\n",
       "      <td>YES</td>\n",
       "      <td>Friends , relatives</td>\n",
       "    </tr>\n",
       "    <tr>\n",
       "      <th>1179</th>\n",
       "      <td>R1193</td>\n",
       "      <td>Delhi-NCR</td>\n",
       "      <td>13</td>\n",
       "      <td>4.0</td>\n",
       "      <td>Average</td>\n",
       "      <td>Smartphone</td>\n",
       "      <td>0.0</td>\n",
       "      <td>0.5</td>\n",
       "      <td>8.0</td>\n",
       "      <td>3.0</td>\n",
       "      <td>Youtube</td>\n",
       "      <td>2</td>\n",
       "      <td>4</td>\n",
       "      <td>Decreased</td>\n",
       "      <td>NO</td>\n",
       "      <td>Online gaming</td>\n",
       "      <td>NO</td>\n",
       "      <td>YES</td>\n",
       "      <td>School/college</td>\n",
       "    </tr>\n",
       "    <tr>\n",
       "      <th>1180</th>\n",
       "      <td>R1194</td>\n",
       "      <td>Delhi-NCR</td>\n",
       "      <td>14</td>\n",
       "      <td>5.0</td>\n",
       "      <td>Excellent</td>\n",
       "      <td>Laptop/Desktop</td>\n",
       "      <td>3.5</td>\n",
       "      <td>1.0</td>\n",
       "      <td>8.0</td>\n",
       "      <td>0.5</td>\n",
       "      <td>Youtube</td>\n",
       "      <td>1</td>\n",
       "      <td>4</td>\n",
       "      <td>Remain Constant</td>\n",
       "      <td>NO</td>\n",
       "      <td>Reading books</td>\n",
       "      <td>YES</td>\n",
       "      <td>YES</td>\n",
       "      <td>School/college</td>\n",
       "    </tr>\n",
       "    <tr>\n",
       "      <th>1181</th>\n",
       "      <td>R1195</td>\n",
       "      <td>Delhi-NCR</td>\n",
       "      <td>13</td>\n",
       "      <td>5.0</td>\n",
       "      <td>Good</td>\n",
       "      <td>Tablet</td>\n",
       "      <td>2.0</td>\n",
       "      <td>0.5</td>\n",
       "      <td>7.0</td>\n",
       "      <td>1.0</td>\n",
       "      <td>Whatsapp</td>\n",
       "      <td>1</td>\n",
       "      <td>3</td>\n",
       "      <td>Remain Constant</td>\n",
       "      <td>NO</td>\n",
       "      <td>Talking</td>\n",
       "      <td>YES</td>\n",
       "      <td>YES</td>\n",
       "      <td>School/college</td>\n",
       "    </tr>\n",
       "  </tbody>\n",
       "</table>\n",
       "<p>1182 rows × 19 columns</p>\n",
       "</div>"
      ],
      "text/plain": [
       "         ID Region of residence  Age of Subject  Time spent on Online Class  \\\n",
       "0        R1           Delhi-NCR              21                         2.0   \n",
       "1        R2           Delhi-NCR              21                         0.0   \n",
       "2        R3           Delhi-NCR              20                         7.0   \n",
       "3        R4           Delhi-NCR              20                         3.0   \n",
       "4        R5           Delhi-NCR              21                         3.0   \n",
       "...     ...                 ...             ...                         ...   \n",
       "1177  R1191           Delhi-NCR              12                         3.0   \n",
       "1178  R1192           Delhi-NCR              14                         6.0   \n",
       "1179  R1193           Delhi-NCR              13                         4.0   \n",
       "1180  R1194           Delhi-NCR              14                         5.0   \n",
       "1181  R1195           Delhi-NCR              13                         5.0   \n",
       "\n",
       "     Rating of Online Class experience Medium for online class  \\\n",
       "0                                 Good          Laptop/Desktop   \n",
       "1                            Excellent              Smartphone   \n",
       "2                            Very poor          Laptop/Desktop   \n",
       "3                            Very poor              Smartphone   \n",
       "4                                 Good          Laptop/Desktop   \n",
       "...                                ...                     ...   \n",
       "1177                              Good              Smartphone   \n",
       "1178                           Average              Smartphone   \n",
       "1179                           Average              Smartphone   \n",
       "1180                         Excellent          Laptop/Desktop   \n",
       "1181                              Good                  Tablet   \n",
       "\n",
       "      Time spent on self study  Time spent on fitness  Time spent on sleep  \\\n",
       "0                          4.0                    0.0                  7.0   \n",
       "1                          0.0                    2.0                 10.0   \n",
       "2                          3.0                    0.0                  6.0   \n",
       "3                          2.0                    1.0                  6.0   \n",
       "4                          3.0                    1.0                  8.0   \n",
       "...                        ...                    ...                  ...   \n",
       "1177                       4.0                    1.0                  8.0   \n",
       "1178                       4.0                    1.0                  9.0   \n",
       "1179                       0.0                    0.5                  8.0   \n",
       "1180                       3.5                    1.0                  8.0   \n",
       "1181                       2.0                    0.5                  7.0   \n",
       "\n",
       "      Time spent on social media Prefered social media platform  \\\n",
       "0                            3.0                       Linkedin   \n",
       "1                            3.0                        Youtube   \n",
       "2                            2.0                       Linkedin   \n",
       "3                            5.0                      Instagram   \n",
       "4                            3.0                      Instagram   \n",
       "...                          ...                            ...   \n",
       "1177                         1.0                      Instagram   \n",
       "1178                         1.0                       Whatsapp   \n",
       "1179                         3.0                        Youtube   \n",
       "1180                         0.5                        Youtube   \n",
       "1181                         1.0                       Whatsapp   \n",
       "\n",
       "     Time spent on TV  Number of meals per day Change in your weight  \\\n",
       "0                   1                        4             Increased   \n",
       "1                   0                        3             Decreased   \n",
       "2                   0                        3       Remain Constant   \n",
       "3                   0                        3             Decreased   \n",
       "4                   1                        4       Remain Constant   \n",
       "...               ...                      ...                   ...   \n",
       "1177                2                        3             Decreased   \n",
       "1178                1                        4       Remain Constant   \n",
       "1179                2                        4             Decreased   \n",
       "1180                1                        4       Remain Constant   \n",
       "1181                1                        3       Remain Constant   \n",
       "\n",
       "     Health issue during lockdown                  Stress busters  \\\n",
       "0                              NO                         Cooking   \n",
       "1                              NO  Scrolling through social media   \n",
       "2                              NO              Listening to music   \n",
       "3                              NO             Watching web series   \n",
       "4                              NO                    Social Media   \n",
       "...                           ...                             ...   \n",
       "1177                           NO                         Dancing   \n",
       "1178                           NO              Listening to music   \n",
       "1179                           NO                   Online gaming   \n",
       "1180                           NO                   Reading books   \n",
       "1181                           NO                         Talking   \n",
       "\n",
       "     Time utilized  \\\n",
       "0              YES   \n",
       "1              YES   \n",
       "2               NO   \n",
       "3               NO   \n",
       "4               NO   \n",
       "...            ...   \n",
       "1177           YES   \n",
       "1178           YES   \n",
       "1179            NO   \n",
       "1180           YES   \n",
       "1181           YES   \n",
       "\n",
       "     Do you find yourself more connected with your family, close friends , relatives  ?  \\\n",
       "0                                                   YES                                   \n",
       "1                                                    NO                                   \n",
       "2                                                   YES                                   \n",
       "3                                                    NO                                   \n",
       "4                                                    NO                                   \n",
       "...                                                 ...                                   \n",
       "1177                                                YES                                   \n",
       "1178                                                YES                                   \n",
       "1179                                                YES                                   \n",
       "1180                                                YES                                   \n",
       "1181                                                YES                                   \n",
       "\n",
       "     What you miss the most  \n",
       "0            School/college  \n",
       "1     Roaming around freely  \n",
       "2                Travelling  \n",
       "3       Friends , relatives  \n",
       "4                Travelling  \n",
       "...                     ...  \n",
       "1177             Travelling  \n",
       "1178    Friends , relatives  \n",
       "1179         School/college  \n",
       "1180         School/college  \n",
       "1181         School/college  \n",
       "\n",
       "[1182 rows x 19 columns]"
      ]
     },
     "execution_count": 1,
     "metadata": {},
     "output_type": "execute_result"
    }
   ],
   "source": [
    "import pandas as pd\n",
    "df=pd.read_csv(r\"E:\\archive (2)\\COVID-19 Survey Student Responses.csv\")\n",
    "df"
   ]
  },
  {
   "cell_type": "markdown",
   "id": "0486fa59",
   "metadata": {},
   "source": [
    " # 1) Which age group spent more time in class (using bar chart)"
   ]
  },
  {
   "cell_type": "code",
   "execution_count": 2,
   "id": "339b91de",
   "metadata": {},
   "outputs": [
    {
     "data": {
      "image/png": "[encoded data removed]",
      "text/plain": [
       "<Figure size 432x288 with 1 Axes>"
      ]
     },
     "metadata": {
      "needs_background": "light"
     },
     "output_type": "display_data"
    }
   ],
   "source": [
    "import numpy as np\n",
    "import matplotlib.pyplot as plt\n",
    "xvalues=df[\"Age of Subject\"]\n",
    "yvalues=df[\"Time spent on Online Class\"]\n",
    "plt.bar(xvalues,yvalues)\n",
    "plt.xlabel(\"Time spent by age group\")\n",
    "plt.ylabel(\"Age of Subject\")\n",
    "plt.show()"
   ]
  },
  {
   "cell_type": "markdown",
   "id": "c6c32053",
   "metadata": {},
   "source": [
    "# 2) Which is the most used way of stress busters during covid-19 pandemic"
   ]
  },
  {
   "cell_type": "code",
   "execution_count": 3,
   "id": "c3a057ae",
   "metadata": {},
   "outputs": [
    {
     "data": {
      "text/plain": [
       "Listening to music                        276\n",
       "Online gaming                             175\n",
       "Watching web series                       102\n",
       "Reading books                              77\n",
       "Scrolling through social media             74\n",
       "                                         ... \n",
       "Watching ted talks and music and books      1\n",
       "Many among these                            1\n",
       "No able to reduce the stress                1\n",
       "Driving                                     1\n",
       "Dont get distreessed                        1\n",
       "Name: Stress busters, Length: 86, dtype: int64"
      ]
     },
     "execution_count": 3,
     "metadata": {},
     "output_type": "execute_result"
    }
   ],
   "source": [
    "df[\"Stress busters\"].value_counts()"
   ]
  },
  {
   "cell_type": "markdown",
   "id": "e50e11e9",
   "metadata": {},
   "source": [
    "# 3) How many students thinking that they are utilized their time"
   ]
  },
  {
   "cell_type": "code",
   "execution_count": 4,
   "id": "41b93597",
   "metadata": {},
   "outputs": [
    {
     "name": "stdout",
     "output_type": "stream",
     "text": [
      "Total number of students is 1182\n",
      "How many students thinking that they are utilized their time\n",
      "NO     608\n",
      "YES    574\n",
      "Name: Time utilized, dtype: int64\n"
     ]
    }
   ],
   "source": [
    "print(\"Total number of students is\",len(df))\n",
    "print(\"How many students thinking that they are utilized their time\")\n",
    "print(df[\"Time utilized\"].value_counts())"
   ]
  },
  {
   "cell_type": "markdown",
   "id": "1ee90b30",
   "metadata": {},
   "source": [
    "# 4)  List out how many hours of class is considered as very poor "
   ]
  },
  {
   "cell_type": "code",
   "execution_count": 5,
   "id": "734f5a08",
   "metadata": {},
   "outputs": [
    {
     "data": {
      "text/plain": [
       "2.0     76\n",
       "4.0     76\n",
       "3.0     65\n",
       "0.0     64\n",
       "1.0     40\n",
       "5.0     38\n",
       "6.0     22\n",
       "7.0     10\n",
       "8.0      8\n",
       "0.5      8\n",
       "1.5      2\n",
       "0.8      1\n",
       "9.0      1\n",
       "10.0     1\n",
       "0.7      1\n",
       "Name: Time spent on Online Class, dtype: int64"
      ]
     },
     "execution_count": 5,
     "metadata": {},
     "output_type": "execute_result"
    }
   ],
   "source": [
    "df[df[\"Rating of Online Class experience\"]==\"Very poor\"][\"Time spent on Online Class\"].value_counts()"
   ]
  },
  {
   "cell_type": "markdown",
   "id": "23bdd945",
   "metadata": {},
   "source": [
    "# 5) Which medium is most commonly used by students to attend class                        (using pie chart)\n",
    "    \n",
    "                                                                                                 "
   ]
  },
  {
   "cell_type": "code",
   "execution_count": 6,
   "id": "49e41074",
   "metadata": {},
   "outputs": [
    {
     "data": {
      "image/png": "[encoded data removed]",
      "text/plain": [
       "<Figure size 720x720 with 1 Axes>"
      ]
     },
     "metadata": {},
     "output_type": "display_data"
    }
   ],
   "source": [
    "import matplotlib.pyplot as plt\n",
    "plt.figure(figsize=(10,10))\n",
    "values=df[\"Medium for online class\"].value_counts()\n",
    "label=(\"Laptop/Desktop\",\"Smartphone\",\"Tablet\",\"Smartphone or Laptop/Desktop\",\"Any Gadget\")\n",
    "plt.pie(values,labels=label,autopct=\"%0.2f%%\")\n",
    "plt.title(\"Medium for online class\")\n",
    "plt.show()"
   ]
  },
  {
   "cell_type": "markdown",
   "id": "f890c36e",
   "metadata": {},
   "source": [
    "# 6) Which social media platform is most used by students ( using seaborn)"
   ]
  },
  {
   "cell_type": "code",
   "execution_count": 7,
   "id": "ace8f589",
   "metadata": {},
   "outputs": [
    {
     "data": {
      "text/plain": [
       "Text(0.5, 1.0, 'Media_range')"
      ]
     },
     "execution_count": 7,
     "metadata": {},
     "output_type": "execute_result"
    },
    {
     "data": {
      "image/png": "[encoded data removed]",
      "text/plain": [
       "<Figure size 1080x1296 with 1 Axes>"
      ]
     },
     "metadata": {
      "needs_background": "light"
     },
     "output_type": "display_data"
    }
   ],
   "source": [
    "import seaborn as sns\n",
    "import matplotlib.pyplot as plt\n",
    "plt.figure(figsize=(15,18))\n",
    "sns.countplot(x=\"Prefered social media platform\",data=df)\n",
    "plt.title(\"Media_range\")"
   ]
  },
  {
   "cell_type": "markdown",
   "id": "4c4df441",
   "metadata": {},
   "source": [
    "# 7) Where do students spend most of their time (using box plot)"
   ]
  },
  {
   "cell_type": "code",
   "execution_count": 8,
   "id": "98232b17",
   "metadata": {},
   "outputs": [
    {
     "data": {
      "image/png": "[encoded data removed]",
      "text/plain": [
       "<Figure size 864x720 with 1 Axes>"
      ]
     },
     "metadata": {
      "needs_background": "light"
     },
     "output_type": "display_data"
    }
   ],
   "source": [
    "import matplotlib.pyplot as plt\n",
    "plt.figure(figsize=(12,10))\n",
    "box_data=df[[\"Time spent on fitness\",\"Time spent on sleep\",\"Time spent on Online Class\",\"Time spent on self study\",\"Time spent on social media\"]]\n",
    "labels=[\"Time spent on fitness\",\"Time spent on sleep\",\"Time spent on Online Class\",\"Time spent on self study\",\"Time spent on social media\"]\n",
    "color=['r','b','c','m','g']\n",
    "box=plt.boxplot(box_data,sym='p',labels=labels,patch_artist=True)\n",
    "for patch,color in zip(box['boxes'],color):\n",
    "    patch.set_facecolor(color)\n",
    "plt.show()    "
   ]
  },
  {
   "cell_type": "markdown",
   "id": "986b6a5c",
   "metadata": {},
   "source": [
    "# 8) What is the result of weight change during the covid pandemic (using seaborn)"
   ]
  },
  {
   "cell_type": "code",
   "execution_count": 9,
   "id": "34457398",
   "metadata": {},
   "outputs": [
    {
     "data": {
      "text/plain": [
       "<AxesSubplot:xlabel='Change in your weight', ylabel='count'>"
      ]
     },
     "execution_count": 9,
     "metadata": {},
     "output_type": "execute_result"
    },
    {
     "data": {
      "image/png": "[encoded data removed]",
      "text/plain": [
       "<Figure size 432x288 with 1 Axes>"
      ]
     },
     "metadata": {
      "needs_background": "light"
     },
     "output_type": "display_data"
    }
   ],
   "source": [
    "import seaborn as sns\n",
    "sns.countplot(x=\"Change in your weight\",data=df)"
   ]
  },
  {
   "cell_type": "markdown",
   "id": "4348959e",
   "metadata": {},
   "source": [
    "# 9) Show  Rating of online class using pie chart"
   ]
  },
  {
   "cell_type": "code",
   "execution_count": 10,
   "id": "cb96a83c",
   "metadata": {},
   "outputs": [
    {
     "data": {
      "image/png": "[encoded data removed]",
      "text/plain": [
       "<Figure size 432x288 with 1 Axes>"
      ]
     },
     "metadata": {},
     "output_type": "display_data"
    }
   ],
   "source": [
    "import matplotlib.pyplot as plt\n",
    "values=df[\"Rating of Online Class experience\"].value_counts()\n",
    "label=(\"Very poor\",\"Average\",\"Good\",\"Excellent\",\"Poor\")\n",
    "plt.pie(values,labels=label,autopct=\"%0.2f%%\")\n",
    "plt.title(\"Rating of online class\")\n",
    "plt.show()\n",
    "        "
   ]
  },
  {
   "cell_type": "markdown",
   "id": "b0bd823b",
   "metadata": {},
   "source": [
    "# 10) Which regional students spend more time on self-study(using bar chart)"
   ]
  },
  {
   "cell_type": "code",
   "execution_count": 11,
   "id": "85a43d07",
   "metadata": {},
   "outputs": [
    {
     "data": {
      "image/png": "[encoded data removed]",
      "text/plain": [
       "<Figure size 288x576 with 1 Axes>"
      ]
     },
     "metadata": {
      "needs_background": "light"
     },
     "output_type": "display_data"
    }
   ],
   "source": [
    "t=[]\n",
    "t.append(df[df[\"Region of residence\"]==\"Delhi-NCR\"][\"Time spent on self study\"].mean())\n",
    "t.append(df[df[\"Region of residence\"]==\"Outside Delhi-NCR\"][\"Time spent on self study\"].mean())\n",
    "t\n",
    "import numpy as np\n",
    "import matplotlib.pyplot as plt\n",
    "fig=plt.figure(figsize=(4,8))\n",
    "xvalues=[1,2]\n",
    "yvalues=t\n",
    "\n",
    "plt.bar(xvalues,yvalues[0:20],tick_label=[\"Delhi-NCR\",\"Outside Delhi-NCR\"],width=0.4)\n",
    "plt.show()\n",
    "\n"
   ]
  },
  {
   "cell_type": "markdown",
   "id": "625ce415",
   "metadata": {},
   "source": [
    "# 11) which age category students have more health issue"
   ]
  },
  {
   "cell_type": "code",
   "execution_count": 12,
   "id": "bb9dd780",
   "metadata": {},
   "outputs": [
    {
     "name": "stdout",
     "output_type": "stream",
     "text": [
      "Age category of students 16-25\n",
      "Total number of students with age category 16-25 is 900\n",
      "Health issue during lockdown\n",
      "NO     759\n",
      "YES    141\n",
      "Name: Health issue during lockdown, dtype: int64\n",
      "\n",
      "Age category of students 26-35\n",
      "Total number of students with age category 26-35 is 70\n",
      "Health issue during lockdown\n",
      "NO     59\n",
      "YES    11\n",
      "Name: Health issue during lockdown, dtype: int64\n",
      "\n",
      "Age category of students less than 15\n",
      "Total number of students with age category less than 15 is 177\n",
      "Health issue during lockdown\n",
      "NO     169\n",
      "YES      8\n",
      "Name: Health issue during lockdown, dtype: int64\n",
      "\n",
      "Age category of students old\n",
      "Total number of students with age category old is 1\n",
      "Health issue during lockdown\n",
      "NO    1\n",
      "Name: Health issue during lockdown, dtype: int64\n",
      "\n",
      "Age category of students 36-45\n",
      "Total number of students with age category 36-45 is 31\n",
      "Health issue during lockdown\n",
      "NO     30\n",
      "YES     1\n",
      "Name: Health issue during lockdown, dtype: int64\n",
      "\n",
      "Age category of students 46-55\n",
      "Total number of students with age category 46-55 is 3\n",
      "Health issue during lockdown\n",
      "NO    3\n",
      "Name: Health issue during lockdown, dtype: int64\n",
      "\n"
     ]
    }
   ],
   "source": [
    "import pandas as pd\n",
    "t=[]\n",
    "for i in df[\"Age of Subject\"]:\n",
    "    if 15>=i:\n",
    "        t.append(\"less than 15\")\n",
    "    elif 25>=i>=16:\n",
    "        t.append(\"16-25\")\n",
    "    elif 35>=i>=26:\n",
    "        t.append(\"26-35\")\n",
    "    elif 45>=i>=36:\n",
    "        t.append(\"36-45\")\n",
    "    elif 55>=i>=46:\n",
    "        t.append(\"46-55\")\n",
    "    else:\n",
    "        t.append(\"old\")\n",
    "df[\"Age_category\"]=pd.DataFrame({\"Age_category\":t})\n",
    "\n",
    "for i in df[\"Age_category\"].unique():\n",
    "    print(\"Age category of students\",i)\n",
    "    print(f\"Total number of students with age category {i} is\",len(df[df[\"Age_category\"]==i]))\n",
    "    print(\"Health issue during lockdown\")\n",
    "    print(df[df[\"Age_category\"]==i][\"Health issue during lockdown\"].value_counts())\n",
    "    print(\"\")\n"
   ]
  },
  {
   "cell_type": "markdown",
   "id": "cb6be551",
   "metadata": {},
   "source": [
    "# 12) Give the correlation of the data"
   ]
  },
  {
   "cell_type": "code",
   "execution_count": 14,
   "id": "8a267d18",
   "metadata": {},
   "outputs": [
    {
     "data": {
      "text/plain": [
       "<AxesSubplot:>"
      ]
     },
     "execution_count": 14,
     "metadata": {},
     "output_type": "execute_result"
    },
    {
     "data": {
      "image/png": "[encoded data removed]",
      "text/plain": [
       "<Figure size 432x288 with 2 Axes>"
      ]
     },
     "metadata": {
      "needs_background": "light"
     },
     "output_type": "display_data"
    }
   ],
   "source": [
    "import seaborn as sns\n",
    "sns.heatmap(df.corr(),cmap='coolwarm',annot=True,linecolor='white',linewidths=1)"
   ]
  },
  {
   "cell_type": "markdown",
   "id": "33a6325d",
   "metadata": {},
   "source": [
    "# 13) Prefered social media platform with respect to the age category"
   ]
  },
  {
   "cell_type": "code",
   "execution_count": 29,
   "id": "6c718e96",
   "metadata": {},
   "outputs": [
    {
     "name": "stdout",
     "output_type": "stream",
     "text": [
      "Age category:  16-25\n",
      "Total number students at age category 16-25 is 1182\n",
      "Social media usage of 16-25 age category\n",
      "Instagram    322\n",
      "Whatsapp     226\n",
      "Youtube      216\n",
      "Linkedin      54\n",
      "Facebook      32\n",
      "Twitter       24\n",
      "None           8\n",
      "Snapchat       6\n",
      "Reddit         5\n",
      "Telegram       3\n",
      "Talklife       1\n",
      "Quora          1\n",
      "Omegle         1\n",
      "Elyment        1\n",
      "Name: Prefered social media platform, dtype: int64\n",
      "\n",
      "Age category:  26-35\n",
      "Total number students at age category 26-35 is 1182\n",
      "Social media usage of 26-35 age category\n",
      "Whatsapp     26\n",
      "Youtube      17\n",
      "Facebook     10\n",
      "Linkedin      6\n",
      "Instagram     6\n",
      "Twitter       3\n",
      "None          2\n",
      "Name: Prefered social media platform, dtype: int64\n",
      "\n",
      "Age category:  less than 15\n",
      "Total number students at age category less than 15 is 1182\n",
      "Social media usage of less than 15 age category\n",
      "Youtube      73\n",
      "Whatsapp     65\n",
      "Instagram    22\n",
      "None          7\n",
      "Facebook      5\n",
      "Snapchat      2\n",
      "Twitter       1\n",
      "WhatsApp      1\n",
      "None          1\n",
      "Name: Prefered social media platform, dtype: int64\n",
      "\n",
      "Age category:  old\n",
      "Total number students at age category old is 1182\n",
      "Social media usage of old age category\n",
      "Whatsapp    1\n",
      "Name: Prefered social media platform, dtype: int64\n",
      "\n",
      "Age category:  36-45\n",
      "Total number students at age category 36-45 is 1182\n",
      "Social media usage of 36-45 age category\n",
      "Whatsapp     17\n",
      "Youtube       6\n",
      "Facebook      5\n",
      "Instagram     2\n",
      "Linkedin      1\n",
      "Name: Prefered social media platform, dtype: int64\n",
      "\n",
      "Age category:  46-55\n",
      "Total number students at age category 46-55 is 1182\n",
      "Social media usage of 46-55 age category\n",
      "Youtube     2\n",
      "Whatsapp    1\n",
      "Name: Prefered social media platform, dtype: int64\n",
      "\n"
     ]
    }
   ],
   "source": [
    "for a in df[\"Age_category\"].unique():\n",
    "    print(\"Age category: \",a)\n",
    "    print(f\"Total number students at age category {a} is\",len(df[\"Age_category\"]))\n",
    "    print(f\"Social media usage of {a} age category\")\n",
    "    print(df[df[\"Age_category\"]==a][\"Prefered social media platform\"].value_counts())\n",
    "    print(\"\")"
   ]
  },
  {
   "cell_type": "markdown",
   "id": "c569339d",
   "metadata": {},
   "source": [
    "# 14) Show the weight change in health issued students"
   ]
  },
  {
   "cell_type": "code",
   "execution_count": 15,
   "id": "622e4684",
   "metadata": {},
   "outputs": [
    {
     "data": {
      "text/plain": [
       "<AxesSubplot:xlabel='Change in your weight', ylabel='count'>"
      ]
     },
     "execution_count": 15,
     "metadata": {},
     "output_type": "execute_result"
    },
    {
     "data": {
      "image/png": "[encoded data removed]",
      "text/plain": [
       "<Figure size 432x576 with 1 Axes>"
      ]
     },
     "metadata": {
      "needs_background": "light"
     },
     "output_type": "display_data"
    }
   ],
   "source": [
    "import matplotlib.pyplot as plt\n",
    "import seaborn as sns\n",
    "plt.figure(figsize=(6,8))\n",
    "sns.countplot(x=\"Change in your weight\",data=df[df[\"Health issue during lockdown\"]==\"YES\"])\n"
   ]
  },
  {
   "cell_type": "markdown",
   "id": "e89c959e",
   "metadata": {},
   "source": [
    "# 15) How many students at age 21 affected health issue and what are the condition of their weight in change and what are their stress busters"
   ]
  },
  {
   "cell_type": "code",
   "execution_count": 16,
   "id": "eaf5b92b",
   "metadata": {},
   "outputs": [
    {
     "name": "stdout",
     "output_type": "stream",
     "text": [
      "Number of students at age 21 affected health issue is : 40\n",
      "Condition of their weight in change and their stress busters are\n",
      "\n",
      "         ID Change in your weight                  Stress busters\n",
      "5        R6             Decreased   Coding and studying for exams\n",
      "11      R12             Increased             Watching web series\n",
      "12      R13             Increased              Listening to music\n",
      "26      R27             Increased              Listening to music\n",
      "80      R81             Increased  Scrolling through social media\n",
      "98      R99             Increased                      Meditation\n",
      "102    R103             Decreased              Listening to music\n",
      "111    R112             Increased                           Sleep\n",
      "154    R155             Decreased                   Reading books\n",
      "159    R160             Increased                   Reading books\n",
      "163    R164       Remain Constant                  Online surfing\n",
      "175    R176             Decreased                   Online gaming\n",
      "192    R193             Decreased       Talking to your relatives\n",
      "261    R264             Increased              Listening to music\n",
      "310    R316             Increased                   Online gaming\n",
      "326    R333       Remain Constant              Listening to music\n",
      "329    R336       Remain Constant                   Reading books\n",
      "362    R369             Increased              Listening to music\n",
      "422    R429       Remain Constant  Scrolling through social media\n",
      "427    R434       Remain Constant             Watching web series\n",
      "463    R470             Decreased              Listening to music\n",
      "520    R527       Remain Constant                   Online gaming\n",
      "544    R551       Remain Constant                  Online surfing\n",
      "599    R606             Decreased  Scrolling through social media\n",
      "600    R608             Increased              Listening to music\n",
      "614    R622       Remain Constant  Scrolling through social media\n",
      "621    R629       Remain Constant                      Meditation\n",
      "671    R680             Decreased                         Cooking\n",
      "762    R771             Increased                   Reading books\n",
      "817    R826             Decreased                  Online surfing\n",
      "820    R829             Decreased  Scrolling through social media\n",
      "821    R830             Increased              Listening to music\n",
      "828    R837             Increased                   Online gaming\n",
      "882    R891             Increased              Listening to music\n",
      "928    R937       Remain Constant              Listening to music\n",
      "938    R947       Remain Constant              Listening to music\n",
      "954    R963             Decreased                  Online surfing\n",
      "961    R970       Remain Constant  Scrolling through social media\n",
      "965    R974       Remain Constant                         Cooking\n",
      "1036  R1047             Increased                      Meditation\n"
     ]
    }
   ],
   "source": [
    "import numpy as np\n",
    "data1=np.where((df[\"Age of Subject\"]==21) & (df[\"Health issue during lockdown\"]==\"YES\"))\n",
    "data12=df.loc[data1]\n",
    "print(\"Number of students at age 21 affected health issue is :\",len(data12))\n",
    "print(\"Condition of their weight in change and their stress busters are\")\n",
    "print(\"\")\n",
    "print(data12[[\"ID\",\"Change in your weight\",\"Stress busters\"]])\n"
   ]
  },
  {
   "cell_type": "code",
   "execution_count": null,
   "id": "85aa65e8",
   "metadata": {},
   "outputs": [],
   "source": []
  }
 ],
 "metadata": {
  "kernelspec": {
   "display_name": "Python 3",
   "language": "python",
   "name": "python3"
  },
  "language_info": {
   "codemirror_mode": {
    "name": "ipython",
    "version": 3
   },
   "file_extension": ".py",
   "mimetype": "text/x-python",
   "name": "python",
   "nbconvert_exporter": "python",
   "pygments_lexer": "ipython3",
   "version": "3.8.8"
  }
 },
 "nbformat": 4,
 "nbformat_minor": 5
}
